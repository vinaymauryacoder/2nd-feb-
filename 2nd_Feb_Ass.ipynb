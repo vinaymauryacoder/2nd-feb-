{
 "cells": [
  {
   "cell_type": "code",
   "execution_count": null,
   "id": "ddff3df8",
   "metadata": {},
   "outputs": [],
   "source": [
    "# ANSWER 1 :\n",
    "Tuple is a collection which is ordered , duplicate and unchangeable. \n",
    "Tuples are written with round brackets.and not within square braces.\n",
    "yes tuple are immutable ."
   ]
  },
  {
   "cell_type": "code",
   "execution_count": null,
   "id": "5f713f82",
   "metadata": {},
   "outputs": [],
   "source": [
    "# ANSWER 2 :\n",
    "t = (1, 5, 7, 9, 3,9,5,1,1,)"
   ]
  },
  {
   "cell_type": "code",
   "execution_count": 18,
   "id": "8940e1c4",
   "metadata": {},
   "outputs": [
    {
     "data": {
      "text/plain": [
       "tuple"
      ]
     },
     "execution_count": 18,
     "metadata": {},
     "output_type": "execute_result"
    }
   ],
   "source": [
    "type(t)"
   ]
  },
  {
   "cell_type": "code",
   "execution_count": 15,
   "id": "dc1a4226",
   "metadata": {},
   "outputs": [
    {
     "data": {
      "text/plain": [
       "3"
      ]
     },
     "execution_count": 15,
     "metadata": {},
     "output_type": "execute_result"
    }
   ],
   "source": [
    "t.count(1)"
   ]
  },
  {
   "cell_type": "code",
   "execution_count": 17,
   "id": "12423bc9",
   "metadata": {},
   "outputs": [
    {
     "data": {
      "text/plain": [
       "2"
      ]
     },
     "execution_count": 17,
     "metadata": {},
     "output_type": "execute_result"
    }
   ],
   "source": [
    "t.index(7)"
   ]
  },
  {
   "cell_type": "raw",
   "id": "72fb33a8",
   "metadata": {},
   "source": [
    "Because the tuple are unchangable (immutable) ."
   ]
  },
  {
   "cell_type": "code",
   "execution_count": null,
   "id": "84c984f1",
   "metadata": {},
   "outputs": [],
   "source": [
    "# ANSWER 3 : \n",
    "SET , DICTIONARY are datatype in python those not allow duplicate item ."
   ]
  },
  {
   "cell_type": "code",
   "execution_count": 20,
   "id": "b95474ae",
   "metadata": {},
   "outputs": [],
   "source": [
    " d = [1, 1, 1, 2, 1, 3, 1, 4, 2, 1, 2, 2, 2, 3, 2, 4, 3, 1, 3, 2, 3, 3, 3, 4, 4, 1, 4, 2, 4, 3, 4, 4]"
   ]
  },
  {
   "cell_type": "code",
   "execution_count": 25,
   "id": "76816750",
   "metadata": {},
   "outputs": [
    {
     "name": "stdout",
     "output_type": "stream",
     "text": [
      "{1, 2, 3, 4}\n"
     ]
    }
   ],
   "source": [
    "print((set(d)))"
   ]
  },
  {
   "cell_type": "code",
   "execution_count": 1,
   "id": "2c7866dc",
   "metadata": {},
   "outputs": [],
   "source": [
    "# ANSWER 4  : \n",
    "\n",
    "s= {1, 2, 3, 4}"
   ]
  },
  {
   "cell_type": "code",
   "execution_count": 2,
   "id": "692b4aa4",
   "metadata": {},
   "outputs": [
    {
     "data": {
      "text/plain": [
       "set"
      ]
     },
     "execution_count": 2,
     "metadata": {},
     "output_type": "execute_result"
    }
   ],
   "source": [
    "type(s)"
   ]
  },
  {
   "cell_type": "code",
   "execution_count": 3,
   "id": "ef9b5a71",
   "metadata": {},
   "outputs": [
    {
     "data": {
      "text/plain": [
       "{1, 2, 3, 4, 6, 7}"
      ]
     },
     "execution_count": 3,
     "metadata": {},
     "output_type": "execute_result"
    }
   ],
   "source": [
    "s.union({7,6})"
   ]
  },
  {
   "cell_type": "code",
   "execution_count": 4,
   "id": "c5b79f09",
   "metadata": {},
   "outputs": [],
   "source": [
    "s.update({8,9,0})"
   ]
  },
  {
   "cell_type": "code",
   "execution_count": 5,
   "id": "74a6085f",
   "metadata": {},
   "outputs": [
    {
     "data": {
      "text/plain": [
       "{0, 1, 2, 3, 4, 8, 9}"
      ]
     },
     "execution_count": 5,
     "metadata": {},
     "output_type": "execute_result"
    }
   ],
   "source": [
    "s"
   ]
  },
  {
   "cell_type": "code",
   "execution_count": 6,
   "id": "fe915023",
   "metadata": {},
   "outputs": [
    {
     "name": "stdout",
     "output_type": "stream",
     "text": [
      "{0, 1, 2, 3, 4, 8, 9}\n"
     ]
    }
   ],
   "source": [
    "print(s)"
   ]
  },
  {
   "cell_type": "code",
   "execution_count": 8,
   "id": "6536f55e",
   "metadata": {},
   "outputs": [
    {
     "data": {
      "text/plain": [
       "{0, 1, 2, 3, 4, 8, 9, 'a', 'b'}"
      ]
     },
     "execution_count": 8,
     "metadata": {},
     "output_type": "execute_result"
    }
   ],
   "source": [
    "s.union({\"a\",\"b\"})"
   ]
  },
  {
   "cell_type": "code",
   "execution_count": 9,
   "id": "04f5bfba",
   "metadata": {},
   "outputs": [],
   "source": [
    "s.update({'g','f'})"
   ]
  },
  {
   "cell_type": "code",
   "execution_count": 10,
   "id": "349245b6",
   "metadata": {},
   "outputs": [
    {
     "data": {
      "text/plain": [
       "{0, 1, 2, 3, 4, 8, 9, 'f', 'g'}"
      ]
     },
     "execution_count": 10,
     "metadata": {},
     "output_type": "execute_result"
    }
   ],
   "source": [
    "s"
   ]
  },
  {
   "cell_type": "code",
   "execution_count": null,
   "id": "fe346c7d",
   "metadata": {},
   "outputs": [],
   "source": [
    "# Answer 5 : \n",
    " a dictionary is a collection which is UNORDERED,CHANGEABLE and INDEXED . In Python dictionaries are \n",
    "    written with CURLY BRACKETS {} . and they have KEYS and VALUES .\n",
    "A dictionary is a collection which is ordered."
   ]
  },
  {
   "cell_type": "code",
   "execution_count": 12,
   "id": "5291c898",
   "metadata": {},
   "outputs": [],
   "source": [
    "# Answer 6:\n",
    " #yes we can create the nested dictionary . \n",
    "    \n",
    "car1_model={'Mercedes':1960}\n",
    "car2_model={'audi':1970}\n",
    "car3_model={'Ambassador':1980}\n",
    "car4_model={'kia':2018}\n",
    "\n",
    "car_type={'car1':car1_model,'car2':car2_model,'car3':car3_model,'car4':car4_model}\n"
   ]
  },
  {
   "cell_type": "code",
   "execution_count": 13,
   "id": "1d3b5da1",
   "metadata": {},
   "outputs": [
    {
     "name": "stdout",
     "output_type": "stream",
     "text": [
      "{'car1': {'Mercedes': 1960}, 'car2': {'audi': 1970}, 'car3': {'Ambassador': 1980}, 'car4': {'kia': 2018}}\n"
     ]
    }
   ],
   "source": [
    "print(car_type)"
   ]
  },
  {
   "cell_type": "code",
   "execution_count": 1,
   "id": "e6e352a2",
   "metadata": {},
   "outputs": [
    {
     "data": {
      "text/plain": [
       "['Python', 'Machine Learning', 'Deep Learning']"
      ]
     },
     "execution_count": 1,
     "metadata": {},
     "output_type": "execute_result"
    }
   ],
   "source": [
    "# ANSWER 7 :\n",
    "\n",
    "    \n",
    "dict1 = {'language': 'Python', 'course': 'Data Science Masters'}\n",
    "dict1.setdefault('topics', ['Python', 'Machine Learning', 'Deep Learning'])\n"
   ]
  },
  {
   "cell_type": "code",
   "execution_count": 3,
   "id": "b0442c73",
   "metadata": {},
   "outputs": [
    {
     "name": "stdout",
     "output_type": "stream",
     "text": [
      "dict_keys(['Sport', 'Teams'])\n",
      "dict_values(['Cricket', ['India', 'Australia', 'England', 'South Africa', 'Sri Lanka', 'New Zealand']])\n",
      "dict_items([('Sport', 'Cricket'), ('Teams', ['India', 'Australia', 'England', 'South Africa', 'Sri Lanka', 'New Zealand'])])\n"
     ]
    }
   ],
   "source": [
    "# ANSWER 8 :\n",
    "\"\"\"dict_keys:  returns a view object of the keys in the dictionary.\n",
    "dict_values:  returns a view object of the values in the dictionary.\n",
    "dict_items: returns a view object of the (key, value) pairs in the dictionary.\"\"\"\n",
    "    \n",
    "    \n",
    "dict1 = {'Sport': 'Cricket', 'Teams': ['India', 'Australia', 'England', 'South Africa', 'Sri Lanka', 'New Zealand']}\n",
    "\n",
    "# Display dict_keys\n",
    "print(dict1.keys())\n",
    "\n",
    "# Display dict_values\n",
    "print(dict1.values())\n",
    "\n",
    "# Display dict_items\n",
    "print(dict1.items())"
   ]
  },
  {
   "cell_type": "code",
   "execution_count": null,
   "id": "78eade77",
   "metadata": {},
   "outputs": [],
   "source": []
  },
  {
   "cell_type": "code",
   "execution_count": null,
   "id": "d73e169e",
   "metadata": {},
   "outputs": [],
   "source": []
  },
  {
   "cell_type": "code",
   "execution_count": null,
   "id": "f2677ea3",
   "metadata": {},
   "outputs": [],
   "source": []
  }
 ],
 "metadata": {
  "kernelspec": {
   "display_name": "Python 3 (ipykernel)",
   "language": "python",
   "name": "python3"
  },
  "language_info": {
   "codemirror_mode": {
    "name": "ipython",
    "version": 3
   },
   "file_extension": ".py",
   "mimetype": "text/x-python",
   "name": "python",
   "nbconvert_exporter": "python",
   "pygments_lexer": "ipython3",
   "version": "3.9.13"
  }
 },
 "nbformat": 4,
 "nbformat_minor": 5
}
